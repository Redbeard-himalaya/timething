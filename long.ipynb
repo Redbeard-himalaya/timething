{
 "cells": [
  {
   "cell_type": "code",
   "execution_count": 1,
   "id": "e9246dba-4d57-4e57-a7d2-9fc372b47fa1",
   "metadata": {},
   "outputs": [
    {
     "name": "stdout",
     "output_type": "stream",
     "text": [
      "/Users/ranykeddo/src/github.com/feldberlin/timething/src\n"
     ]
    }
   ],
   "source": [
    "%load_ext autoreload\n",
    "%autoreload 2\n",
    "%matplotlib inline\n",
    "%cd src"
   ]
  },
  {
   "cell_type": "code",
   "execution_count": 2,
   "id": "4c97ffcb-ec60-45da-8287-89be303738e0",
   "metadata": {},
   "outputs": [],
   "source": [
    "from dataclasses import replace\n",
    "from pathlib import Path\n",
    "\n",
    "from torch.utils.data import DataLoader\n",
    "import numpy as np\n",
    "import matplotlib.pyplot as plt\n",
    "import IPython.display as ipd\n",
    "\n",
    "from timething import dataset, job, text, utils, align, viz "
   ]
  },
  {
   "cell_type": "markdown",
   "id": "fb8ef372-4a57-42d8-8b41-5e7029314bc8",
   "metadata": {},
   "source": [
    "# Long form content processing"
   ]
  },
  {
   "cell_type": "code",
   "execution_count": 3,
   "id": "64a7ed7f-7b2e-4005-84cc-3e5d3c8aa38b",
   "metadata": {},
   "outputs": [
    {
     "name": "stderr",
     "output_type": "stream",
     "text": [
      "/Users/ranykeddo/anaconda3/envs/timething/lib/python3.8/site-packages/torch/nn/utils/weight_norm.py:30: UserWarning: torch.nn.utils.weight_norm is deprecated in favor of torch.nn.utils.parametrizations.weight_norm.\n",
      "  warnings.warn(\"torch.nn.utils.weight_norm is deprecated in favor of torch.nn.utils.parametrizations.weight_norm.\")\n"
     ]
    }
   ],
   "source": [
    "# config\n",
    "fixtures_path = Path(\"../fixtures\")\n",
    "aligments_path = fixtures_path / \"alignments\"\n",
    "metadata = fixtures_path / \"text.csv\"\n",
    "cfg = utils.load_config(\"english\", local_files_only=True)\n",
    "device = \"cpu\"\n",
    "\n",
    "# aligner\n",
    "ds = dataset.SpeechDataset(Path(metadata), cfg.sampling_rate)\n",
    "aligner = align.Aligner.build(device, cfg)\n",
    "ds.clean_text_fn = text.TextCleaner(cfg.language, aligner.vocab)\n",
    "\n",
    "# loader\n",
    "loader = DataLoader(\n",
    "    ds,\n",
    "    batch_size=3,\n",
    "    num_workers=1,\n",
    "    collate_fn=dataset.collate_fn,\n",
    "    shuffle=False,\n",
    ")"
   ]
  },
  {
   "cell_type": "code",
   "execution_count": null,
   "id": "f700427d-556f-448e-8695-92272ebb781b",
   "metadata": {},
   "outputs": [],
   "source": []
  }
 ],
 "metadata": {
  "kernelspec": {
   "display_name": "timething",
   "language": "python",
   "name": "timething"
  },
  "language_info": {
   "codemirror_mode": {
    "name": "ipython",
    "version": 3
   },
   "file_extension": ".py",
   "mimetype": "text/x-python",
   "name": "python",
   "nbconvert_exporter": "python",
   "pygments_lexer": "ipython3",
   "version": "3.8.18"
  }
 },
 "nbformat": 4,
 "nbformat_minor": 5
}
